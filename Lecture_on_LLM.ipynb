{
 "cells": [
  {
   "cell_type": "markdown",
   "metadata": {},
   "source": [
    "# Prof talk on LLM's"
   ]
  },
  {
   "cell_type": "markdown",
   "metadata": {},
   "source": [
    "Chat 1:\n",
    "- Trained on 1100 books\n",
    "Chat 2:\n",
    "- trained on internet:  40 gigs of text reddit \n",
    "chat 3:\n",
    "- 570 gig of text\n",
    "Chat is:\n",
    "- is autoregressive model-guess based on previous\n",
    "- prompt: it's time for... ai completes: \"rest. Lets read fav book.\" If it guesses \"rest\" wrong, the rest that will follow would be wrong=hallucination\n",
    "- Impacts of AI tools in educataion- \n",
    "    - Overreliance on it\n",
    "    - equity issues in AI algorithms\n",
    "    - Potential loss of soft skills among students\n",
    "    - researhc assistant (lit review) and is essentially open office hours for students\n",
    "    - honor code violations\n",
    "    - relevance (why need a teacher)"
   ]
  },
  {
   "cell_type": "markdown",
   "metadata": {},
   "source": [
    "# STEPS TO BUILD AN LLM\n",
    "- gather a large corpus of data (diverse, rich dataset)\n",
    "- Convert text data into numerical rep by tokenizing words and building a vocab of unique tokens\n",
    "- choose a neural network architecture sutiable for lang modeling. Transformer-based arch is like those in GPT\n",
    "- Train the lang model on preprocessed text data\n",
    "- Eval the performance of the model on validation set\n",
    "- deploy (make it public)"
   ]
  },
  {
   "cell_type": "code",
   "execution_count": 12,
   "metadata": {},
   "outputs": [
    {
     "name": "stdout",
     "output_type": "stream",
     "text": [
      "Requirement already satisfied: torch in c:\\users\\ainsley m\\miniconda3\\lib\\site-packages (2.4.1+cu118)\n",
      "Requirement already satisfied: filelock in c:\\users\\ainsley m\\miniconda3\\lib\\site-packages (from torch) (3.16.1)\n",
      "Requirement already satisfied: typing-extensions>=4.8.0 in c:\\users\\ainsley m\\miniconda3\\lib\\site-packages (from torch) (4.12.2)\n",
      "Requirement already satisfied: sympy in c:\\users\\ainsley m\\miniconda3\\lib\\site-packages (from torch) (1.12)\n",
      "Requirement already satisfied: networkx in c:\\users\\ainsley m\\miniconda3\\lib\\site-packages (from torch) (3.3)\n",
      "Requirement already satisfied: jinja2 in c:\\users\\ainsley m\\miniconda3\\lib\\site-packages (from torch) (3.1.4)\n",
      "Requirement already satisfied: fsspec in c:\\users\\ainsley m\\miniconda3\\lib\\site-packages (from torch) (2024.9.0)\n",
      "Requirement already satisfied: setuptools in c:\\users\\ainsley m\\miniconda3\\lib\\site-packages (from torch) (69.5.1)\n",
      "Requirement already satisfied: MarkupSafe>=2.0 in c:\\users\\ainsley m\\miniconda3\\lib\\site-packages (from jinja2->torch) (2.1.5)\n",
      "Requirement already satisfied: mpmath>=0.19 in c:\\users\\ainsley m\\miniconda3\\lib\\site-packages (from sympy->torch) (1.3.0)\n"
     ]
    }
   ],
   "source": [
    "#! pip install transformers\n",
    "# ! pip3 install torch torchvision torchaudio --index-url https://download.pytorch.org/whl/cu118\n",
    "#! pip install torch"
   ]
  },
  {
   "cell_type": "code",
   "execution_count": null,
   "metadata": {},
   "outputs": [],
   "source": [
    "import torch\n",
    "\n",
    "from transformers import GPT2Tokenizer, GPT2LMHeadModel # breaks down prompt into tokens"
   ]
  },
  {
   "cell_type": "code",
   "execution_count": 2,
   "metadata": {},
   "outputs": [
    {
     "name": "stderr",
     "output_type": "stream",
     "text": [
      "The attention mask and the pad token id were not set. As a consequence, you may observe unexpected behavior. Please pass your input's `attention_mask` to obtain reliable results.\n",
      "Setting `pad_token_id` to `eos_token_id`:None for open-end generation.\n"
     ]
    },
    {
     "name": "stdout",
     "output_type": "stream",
     "text": [
      "The best singer in the world is a man who is not afraid to speak his mind. He is not afraid to be a man who is not afraid to be a man who is not afraid to be a man who is not afraid to be a man\n"
     ]
    }
   ],
   "source": [
    "\n",
    "tokens = GPT2Tokenizer.from_pretrained(\"gpt2\") #have access to how gpt2 tokenizes to make it efficient\n",
    "\n",
    "model= GPT2LMHeadModel.from_pretrained(\"gpt2\") # the model we will use is also from gpt2\n",
    "\n",
    "my_prompt= \"The best singer in the world is\"\n",
    "\n",
    "# build a token for the prompt\n",
    "# py torch is deep learning frameowrk built by meta\n",
    "# encode breaks it into tokens\n",
    "tokenized_prompt= tokens.encode(my_prompt, return_tensors=\"pt\")\n",
    " #get the response, can tell max length of response \n",
    "response= model.generate(tokenized_prompt, max_length=50, num_return_sequences=1, temperature=1 )\n",
    "\n",
    "# now decode tokens into regular text\n",
    "# want the first reponse=index 0\n",
    "generated_response= tokens.decode(response[0],skip_special_token=True)\n",
    "\n",
    "# print it\n",
    "print(generated_response)\n",
    "\n",
    "\n"
   ]
  }
 ],
 "metadata": {
  "kernelspec": {
   "display_name": "base",
   "language": "python",
   "name": "python3"
  },
  "language_info": {
   "codemirror_mode": {
    "name": "ipython",
    "version": 3
   },
   "file_extension": ".py",
   "mimetype": "text/x-python",
   "name": "python",
   "nbconvert_exporter": "python",
   "pygments_lexer": "ipython3",
   "version": "3.12.3"
  }
 },
 "nbformat": 4,
 "nbformat_minor": 2
}
