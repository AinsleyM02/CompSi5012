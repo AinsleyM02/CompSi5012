{
 "cells": [
  {
   "cell_type": "markdown",
   "metadata": {},
   "source": [
    "# Prof talk on LLM's"
   ]
  },
  {
   "cell_type": "markdown",
   "metadata": {},
   "source": [
    "Chat 1:\n",
    "- Trained on 1100 books\n",
    "Chat 2:\n",
    "- trained on internet: reddit, social media, etc- can be very wrong\n",
    "Chat is:\n",
    "- is autoregressive model-guess based on previous\n",
    "- prompt: it's time for... ai completes: \"rest. Lets read fav book.\" If it guesses \"rest\" wrong, the rest that will follow would be wrong=hallucination\n",
    "- Impacts of AI tools in educataion- \n",
    "    - Overreliance on it\n",
    "    - equity issues in AI algorithms\n",
    "    - Potential loss of soft skills among students\n",
    "    - researhc assistant (lit review) and is essentially open office hours for students\n",
    "    - honor code violations\n",
    "    - relevance (why need a teacher)"
   ]
  },
  {
   "cell_type": "code",
   "execution_count": null,
   "metadata": {},
   "outputs": [],
   "source": []
  }
 ],
 "metadata": {
  "language_info": {
   "name": "python"
  }
 },
 "nbformat": 4,
 "nbformat_minor": 2
}
