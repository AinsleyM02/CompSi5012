{
 "cells": [
  {
   "cell_type": "markdown",
   "metadata": {},
   "source": [
    "# Lecture 2:\n",
    "Topics:\n",
    "- Data Types\n",
    "● Abstract Data Types\n",
    "● Variables\n",
    "● Control Structures\n",
    "● Functions\n",
    "● Objects and Classes\n",
    "\n",
    "- type= collection of values= types: string, boolean, int, float, nan\n",
    "- data type= type with a collection of operations to manipulate the type\n",
    "\n",
    "dynamic: data type determined during run time not compile time= python"
   ]
  },
  {
   "cell_type": "markdown",
   "metadata": {},
   "source": [
    "# \n",
    "abstract data type\n",
    "\n",
    "LIFO: last element in is the first element out"
   ]
  },
  {
   "cell_type": "code",
   "execution_count": null,
   "metadata": {},
   "outputs": [],
   "source": [
    "# \n"
   ]
  },
  {
   "cell_type": "markdown",
   "metadata": {},
   "source": [
    "Dataset 1 is very large but has a fixed size = would want immutable= take up a set amount in memory, cannot be changed\n",
    "Dataset 2 begins small but expands to an unpredictable size =would want mutable=changeable\n",
    "Would you rather have a mutable or immutable variable?\n"
   ]
  },
  {
   "cell_type": "markdown",
   "metadata": {},
   "source": [
    "# Python is onject oriented: (as opposed to procedure)\n",
    "- everything in python is an object\n",
    "- class is a blue print or a template for an object\n",
    "- class defines a set of attributes (dat) and methods (functions) that the objects created from hte class will have"
   ]
  }
 ],
 "metadata": {
  "language_info": {
   "name": "python"
  }
 },
 "nbformat": 4,
 "nbformat_minor": 2
}
