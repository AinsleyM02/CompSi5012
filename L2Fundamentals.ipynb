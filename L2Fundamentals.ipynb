{
 "cells": [
  {
   "cell_type": "markdown",
   "metadata": {},
   "source": [
    "# Lecture 2:\n",
    "Topics:\n",
    "- Data Types\n",
    "● Abstract Data Types\n",
    "● Variables\n",
    "● Control Structures\n",
    "● Functions\n",
    "● Objects and Classes\n",
    "\n",
    "- type= collection of values= types: string, boolean, int, float, nan\n",
    "- data type= type with a collection of operations to manipulate the type\n",
    "\n",
    "dynamic: data type determined during run time not compile time= python"
   ]
  },
  {
   "cell_type": "code",
   "execution_count": null,
   "metadata": {},
   "outputs": [],
   "source": [
    "# \n"
   ]
  },
  {
   "cell_type": "markdown",
   "metadata": {},
   "source": []
  }
 ],
 "metadata": {
  "language_info": {
   "name": "python"
  }
 },
 "nbformat": 4,
 "nbformat_minor": 2
}
