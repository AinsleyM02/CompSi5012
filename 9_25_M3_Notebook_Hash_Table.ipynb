{
  "cells": [
    {
      "cell_type": "markdown",
      "metadata": {
        "id": "uqO_6E8BBT7z"
      },
      "source": [
        "**Hash Table**\n",
        "\n",
        "A hash table is a data structure that maps keys to values. It uses a hash function to compute an index (hash code) into an array of buckets or slots, from which the desired value can be found. The efficiency of a hash table comes from its ability to provide average constant time complexity O(1) for insertion, deletion, and lookup operations.\n",
        "\n",
        "In Python, hash tables are implemented through the built-in dict type, which uses a hash function to convert keys into indices. Python dictionaries are highly optimized and offer the following key properties:\n",
        "\n",
        "\n",
        "1.  Key uniqueness: Keys must be unique. If you insert a new value with the same key, the previous value will be overwritten.\n",
        "\n",
        "2.   Hashability: Keys must be hashable, meaning they must implement a $__hash__()$ method. Immutable types like integers, strings, and tuples are hashable, while mutable types like lists and dictionaries are not.\n",
        "\n",
        "\n"
      ]
    },
    {
      "cell_type": "code",
      "execution_count": 1,
      "metadata": {
        "colab": {
          "base_uri": "https://localhost:8080/"
        },
        "id": "3wYj387bAn01",
        "outputId": "efaec8b0-205d-43c4-d2c6-b04f162de5fa"
      },
      "outputs": [
        {
          "name": "stdout",
          "output_type": "stream",
          "text": [
            "1\n",
            "1\n"
          ]
        }
      ],
      "source": [
        "# Create a dictionary\n",
        "hash_table = {}\n",
        "# in python, if add a value to it, it updates that value, in theoretical understanding, it does not!!!!\n",
        "# Add key-value pairs\n",
        "hash_table['apple'] = 1\n",
        "hash_table['banana'] = 2\n",
        "hash_table['orange'] = 3\n",
        "\n",
        "# Accessing values\n",
        "print(hash_table['apple'])  # Output: 1\n",
        "print(hash_table.get('apple'))  # Output: 1"
      ]
    },
    {
      "cell_type": "code",
      "execution_count": null,
      "metadata": {
        "id": "XPCuOidBAw8j"
      },
      "outputs": [],
      "source": [
        "#Inserting a key-value pair\n",
        "hash_table['grape'] = 4"
      ]
    },
    {
      "cell_type": "code",
      "execution_count": null,
      "metadata": {
        "id": "c9ZQA5aLA1f-"
      },
      "outputs": [],
      "source": [
        "#Removing a key-value pair\n",
        "del hash_table['orange']"
      ]
    },
    {
      "cell_type": "code",
      "execution_count": 2,
      "metadata": {
        "colab": {
          "base_uri": "https://localhost:8080/"
        },
        "id": "aEkDKT9LBLX4",
        "outputId": "a6057bab-adcc-4e1f-8495-685dd0e8c218"
      },
      "outputs": [
        {
          "name": "stdout",
          "output_type": "stream",
          "text": [
            "apple 1\n",
            "banana 2\n",
            "orange 3\n"
          ]
        }
      ],
      "source": [
        "#Iterating over a hash table:\n",
        "for key, value in hash_table.items():\n",
        "    print(key, value)"
      ]
    },
    {
      "cell_type": "markdown",
      "metadata": {
        "id": "JHv_zNM6CDfT"
      },
      "source": [
        "**Hash Functions**\n",
        "\n",
        "A hash function takes in a key and returns a unique integer (the hash code) corresponding to the index of the bucket in the hash table.\n",
        "\n",
        "Python hash() function is a built-in function and returns the hash value of an object if it has one. The hash value is an integer that is used to quickly compare dictionary keys while looking at a dictionary.\n",
        "\n",
        "**Key Properties of Hash Functions:**\n",
        "\n",
        "\n",
        "1.   Deterministic: The same key will always produce the same hash code\n",
        "2.   Uniformity: A good hash function distributes keys uniformly across the array to minimize collisions\n",
        "3. Efficient: Computing the hash code should be fast and efficient\n",
        "4. Handling different types: In Python, hash functions can work with various data types (strings, integers, tuples, etc.\n"
      ]
    },
    {
      "cell_type": "code",
      "execution_count": 3,
      "metadata": {
        "colab": {
          "base_uri": "https://localhost:8080/"
        },
        "id": "sWjHljC6CECS",
        "outputId": "c7bdcef2-9aef-40da-964f-a3f1ab802808"
      },
      "outputs": [
        {
          "data": {
            "text/plain": [
              "-3395950766436375039"
            ]
          },
          "execution_count": 3,
          "metadata": {},
          "output_type": "execute_result"
        }
      ],
      "source": [
        "hash('apple')"
      ]
    },
    {
      "cell_type": "code",
      "execution_count": 32,
      "metadata": {
        "colab": {
          "base_uri": "https://localhost:8080/"
        },
        "id": "IGZGXrCGGOyy",
        "outputId": "48260143-30cf-4433-9ee0-c49f4ad1828d"
      },
      "outputs": [
        {
          "name": "stdout",
          "output_type": "stream",
          "text": [
            "-3395950766436375039\n",
            "1152921504606847018\n",
            "-3550055125485641917\n"
          ]
        }
      ],
      "source": [
        "#hashing different data types\n",
        "print(hash(\"apple\"))  # Output: Some integer (hash value)\n",
        "print(hash(42))       # Output: Another hash value for integer 42\n",
        "print(hash(42.5))       # Output: Another hash value for integer 42\n",
        "print(hash((1, 2)))   # Output: Hash value for a tuple (immutable types are hashable)\n",
        "print(hash({1,2})) # this will produce and error, it is not immutable"
      ]
    },
    {
      "cell_type": "markdown",
      "metadata": {
        "id": "aMbmJs0bHbKp"
      },
      "source": [
        "In Python, only immutable objects are hashable because their hash value must remain constant throughout their lifetime. Immutable types like integers, strings, and tuples can be used as keys in a dictionary, but mutable types like lists and dictionaries cannot."
      ]
    },
    {
      "cell_type": "code",
      "execution_count": 36,
      "metadata": {
        "colab": {
          "base_uri": "https://localhost:8080/",
          "height": 141
        },
        "id": "0w9199DeComN",
        "outputId": "89ab67fd-1c43-4300-f80c-0ab59babe8cf"
      },
      "outputs": [
        {
          "ename": "TypeError",
          "evalue": "unhashable type: 'dict'",
          "output_type": "error",
          "traceback": [
            "\u001b[0;31m---------------------------------------------------------------------------\u001b[0m",
            "\u001b[0;31mTypeError\u001b[0m                                 Traceback (most recent call last)",
            "\u001b[0;32m<ipython-input-36-af1920d6f7cf>\u001b[0m in \u001b[0;36m<cell line: 1>\u001b[0;34m()\u001b[0m\n\u001b[0;32m----> 1\u001b[0;31m \u001b[0mhash_table\u001b[0m \u001b[0;34m=\u001b[0m \u001b[0;34m{\u001b[0m\u001b[0;34m{\u001b[0m\u001b[0;36m1\u001b[0m\u001b[0;34m:\u001b[0m\u001b[0;36m3\u001b[0m\u001b[0;34m}\u001b[0m\u001b[0;34m:\u001b[0m\u001b[0;36m1\u001b[0m\u001b[0;34m}\u001b[0m\u001b[0;34m\u001b[0m\u001b[0;34m\u001b[0m\u001b[0m\n\u001b[0m",
            "\u001b[0;31mTypeError\u001b[0m: unhashable type: 'dict'"
          ]
        }
      ],
      "source": [
        "hash_table = {{1:3}:1}"
      ]
    },
    {
      "cell_type": "code",
      "execution_count": null,
      "metadata": {
        "id": "Mxn07XqbD_2K"
      },
      "outputs": [],
      "source": []
    },
    {
      "cell_type": "markdown",
      "metadata": {
        "id": "UAb1VNMEEUVL"
      },
      "source": [
        "**Handling Collisions**\n",
        "\n",
        "In real-world scenarios, different keys might end up with the same hash code (called a collision). Python handles collisions using open addressing or chaining (depending on the implementation).\n",
        "\n",
        "\n",
        "1.   Open Addressing: In this strategy, the hash table uses a probing sequence to find the next available index if the desired index is already occupied.\n",
        "\n",
        "2.   Chaining: In this strategy, each bucket holds a list (or linked list) of items. When multiple keys hash to the same bucket, the list grows, and the keys are stored as separate items within that list.\n",
        "\n",
        "Python dictionaries use an open addressing technique known as \"hash perturbation\", where each collision probe is adjusted using additional bits from the hash code."
      ]
    },
    {
      "cell_type": "code",
      "execution_count": 4,
      "metadata": {
        "colab": {
          "base_uri": "https://localhost:8080/"
        },
        "id": "P2yWDD8nO45H",
        "outputId": "c52ae8b0-9984-4d00-9c42-6ae8d6918ecc"
      },
      "outputs": [
        {
          "name": "stdout",
          "output_type": "stream",
          "text": [
            "Alice\n",
            "30\n",
            "None\n",
            "Index 3: name -> Alice\n",
            "Index 9: city -> New York\n"
          ]
        }
      ],
      "source": [
        "class LinearProbingHashTable:\n",
        "    def __init__(self, size=11):\n",
        "        \"\"\"Initialize the hash table with a given size.\n",
        "\n",
        "        Args:\n",
        "            size (int): The size of the hash table. Default is 11.\n",
        "        \"\"\"\n",
        "        self.size = size  # Set the size of the hash table\n",
        "        self.table = [None] * self.size  # Initialize the table with None\n",
        "        self.count = 0  # Count of current elements in the table\n",
        "\n",
        "    def _hash(self, key):\n",
        "        \"\"\"Compute the hash for a given key.\n",
        "\n",
        "        Args:\n",
        "            key (any): The key to hash.\n",
        "\n",
        "        Returns:\n",
        "            int: The index in the hash table where the key should be placed.\n",
        "        \"\"\"\n",
        "        return hash(key) % self.size  # Return the index by applying hash and modulo\n",
        "\n",
        "    def _probe(self, index):\n",
        "        \"\"\"Find the next available index using linear probing.\n",
        "\n",
        "        Args:\n",
        "            index (int): The current index to check.\n",
        "\n",
        "        Returns:\n",
        "            int: The next index to check.\n",
        "        \"\"\"\n",
        "        return (index + 1) % self.size  # Return the next index in a circular manner\n",
        "\n",
        "    def insert(self, key, value):\n",
        "        \"\"\"Insert a key-value pair into the hash table.\n",
        "\n",
        "        Args:\n",
        "            key (any): The key to insert.\n",
        "            value (any): The value associated with the key.\n",
        "\n",
        "        Raises:\n",
        "            Exception: If the table is full.\n",
        "        \"\"\"\n",
        "        if self.count >= self.size:  # Check if the table is full\n",
        "            raise Exception(\"Hash table is full\")  # Raise an exception if full\n",
        "\n",
        "        index = self._hash(key)  # Calculate the initial index for the key\n",
        "\n",
        "        # Linear probing to find the next available slot\n",
        "        while self.table[index] is not None:  # While the current slot is occupied\n",
        "            if self.table[index][0] == key:  # If the key already exists\n",
        "                break  # Stop searching to update the existing key\n",
        "            index = self._probe(index)  # Move to the next index\n",
        "\n",
        "        self.table[index] = (key, value)  # Insert the key-value pair at the found index\n",
        "        self.count += 1  # Increment the count of elements\n",
        "\n",
        "    def search(self, key):\n",
        "        \"\"\"Search for a value by its key in the hash table.\n",
        "\n",
        "        Args:\n",
        "            key (any): The key to search for.\n",
        "\n",
        "        Returns:\n",
        "            any: The value associated with the key, or None if not found.\n",
        "        \"\"\"\n",
        "        index = self._hash(key)  # Calculate the index for the key\n",
        "\n",
        "        while self.table[index] is not None:  # While the current slot is not empty\n",
        "            if self.table[index][0] == key:  # If the key matches\n",
        "                return self.table[index][1]  # Return the corresponding value\n",
        "            index = self._probe(index)  # Move to the next index\n",
        "\n",
        "        return None  # Return None if the key is not found\n",
        "\n",
        "    def delete(self, key):\n",
        "        \"\"\"Delete a key-value pair from the hash table by its key.\n",
        "\n",
        "        Args:\n",
        "            key (any): The key to delete.\n",
        "\n",
        "        Returns:\n",
        "            bool: True if the key was found and deleted, False otherwise.\n",
        "        \"\"\"\n",
        "        index = self._hash(key)  # Calculate the index for the key\n",
        "\n",
        "        while self.table[index] is not None:  # While the current slot is not empty\n",
        "            if self.table[index][0] == key:  # If the key matches\n",
        "                self.table[index] = None  # Remove the key-value pair\n",
        "                self.count -= 1  # Decrement the count of elements\n",
        "                return True  # Return True indicating successful deletion\n",
        "            index = self._probe(index)  # Move to the next index\n",
        "\n",
        "        return False  # Return False if the key was not found\n",
        "\n",
        "    def __str__(self):\n",
        "        \"\"\"Return a string representation of the hash table.\"\"\"\n",
        "        items = []  # Initialize a list to hold the string representations of each entry\n",
        "        for index, entry in enumerate(self.table):  # Loop through the hash table\n",
        "            if entry is not None:  # If the slot is occupied\n",
        "                items.append(f\"Index {index}: {entry[0]} -> {entry[1]}\")  # Add the entry to the list\n",
        "        return \"\\n\".join(items)  # Join and return the list as a string\n",
        "\n",
        "# Example\n",
        "if __name__ == \"__main__\":\n",
        "    hash_table = LinearProbingHashTable()  # Create a new hash table instance\n",
        "\n",
        "    # Inserting key-value pairs\n",
        "    hash_table.insert(\"name\", \"Alice\")  # Insert a key-value pair for name\n",
        "    hash_table.insert(\"age\", 30)  # Insert a key-value pair for age\n",
        "    hash_table.insert(\"city\", \"New York\")  # Insert a key-value pair for city\n",
        "\n",
        "    # Searching for a value\n",
        "    print(hash_table.search(\"name\"))  # Output: Alice\n",
        "    print(hash_table.search(\"age\"))   # Output: 30\n",
        "\n",
        "    # Deleting a key\n",
        "    hash_table.delete(\"age\")  # Delete the key-value pair for age\n",
        "    print(hash_table.search(\"age\"))    # Output: None (since it has been deleted)\n",
        "\n",
        "    # Print the hash table\n",
        "    print(hash_table)  # Print the current state of the hash table"
      ]
    },
    {
      "cell_type": "code",
      "execution_count": 5,
      "metadata": {
        "colab": {
          "base_uri": "https://localhost:8080/"
        },
        "id": "i-vMvtXPvZsK",
        "outputId": "19ac3a4a-8952-4807-ec32-620507e824df"
      },
      "outputs": [
        {
          "name": "stdout",
          "output_type": "stream",
          "text": [
            "Alice\n",
            "30\n",
            "None\n",
            "Index 3: [('name', 'Alice')]\n",
            "Index 6: [('city', 'New York')]\n"
          ]
        }
      ],
      "source": [
        "class ChainingHashTable:\n",
        "    def __init__(self, size=10):\n",
        "        \"\"\"\n",
        "        Initializes the hash table with a given size.\n",
        "        :param size: The number of buckets in the hash table.\n",
        "        \"\"\"\n",
        "        self.size = size  # Set the size of the hash table\n",
        "        self.table = [[] for _ in range(size)]  # Create a list of empty lists for chaining\n",
        "\n",
        "    def _hash(self, key):\n",
        "        \"\"\"\n",
        "        Hash function that computes the index for a given key.\n",
        "        :param key: The key to be hashed.\n",
        "        :return: The index in the hash table.\n",
        "        \"\"\"\n",
        "        return hash(key) % self.size  # Use Python's built-in hash function\n",
        "\n",
        "    def insert(self, key, value):\n",
        "        \"\"\"\n",
        "        Inserts a key-value pair into the hash table.\n",
        "        :param key: The key to insert.\n",
        "        :param value: The value associated with the key.\n",
        "        \"\"\"\n",
        "        index = self._hash(key)  # Get the index for the key\n",
        "        # Check if the key already exists in the chain\n",
        "        for i, (k, v) in enumerate(self.table[index]):\n",
        "            if k == key:\n",
        "                self.table[index][i] = (key, value)  # Update existing key-value pair\n",
        "                return\n",
        "        self.table[index].append((key, value))  # Add new key-value pair\n",
        "\n",
        "    def get(self, key):\n",
        "        \"\"\"\n",
        "        Retrieves the value associated with a given key.\n",
        "        :param key: The key whose value is to be retrieved.\n",
        "        :return: The value associated with the key, or None if not found.\n",
        "        \"\"\"\n",
        "        index = self._hash(key)  # Get the index for the key\n",
        "        # Search through the chain at that index\n",
        "        for k, v in self.table[index]:\n",
        "            if k == key:\n",
        "                return v  # Return the value if found\n",
        "        return None  # Return None if key is not found\n",
        "\n",
        "    def remove(self, key):\n",
        "        \"\"\"\n",
        "        Removes a key-value pair from the hash table.\n",
        "        :param key: The key to be removed.\n",
        "        \"\"\"\n",
        "        index = self._hash(key)  # Get the index for the key\n",
        "        # Search through the chain at that index\n",
        "        for i, (k, v) in enumerate(self.table[index]):\n",
        "            if k == key:\n",
        "                del self.table[index][i]  # Remove the key-value pair\n",
        "                return  # Exit after removal\n",
        "        # If the key is not found, do nothing\n",
        "\n",
        "    def search(self, key):\n",
        "        \"\"\"\n",
        "        Checks if a key exists in the hash table.\n",
        "        :param key: The key to search for.\n",
        "        :return: True if the key exists, False otherwise.\n",
        "        \"\"\"\n",
        "        index = self._hash(key)  # Get the index for the key\n",
        "        # Search through the chain at that index\n",
        "        for k, v in self.table[index]:\n",
        "            if k == key:\n",
        "                return v  # Key found\n",
        "        return None  # Key not found\n",
        "    def display(self):\n",
        "        \"\"\"\n",
        "        Displays the contents of the hash table.\n",
        "        \"\"\"\n",
        "        for index, chain in enumerate(self.table):\n",
        "            if chain:\n",
        "                print(f\"Index {index}: {chain}\")  # Print non-empty chains\n",
        "\n",
        "\n",
        "if __name__ == \"__main__\":\n",
        "    hash_table = ChainingHashTable()  # Create a new hash table instance\n",
        "\n",
        "    # Inserting key-value pairs\n",
        "    hash_table.insert(\"name\", \"Alice\")  # Insert a key-value pair for name\n",
        "    hash_table.insert(\"age\", 30)  # Insert a key-value pair for age\n",
        "    hash_table.insert(\"city\", \"New York\")  # Insert a key-value pair for city\n",
        "\n",
        "    # Searching for a value\n",
        "    print(hash_table.search(\"name\"))  # Output: Alice\n",
        "    print(hash_table.search(\"age\"))   # Output: 30\n",
        "\n",
        "    # Deleting a key\n",
        "    hash_table.remove(\"age\")  # Delete the key-value pair for age\n",
        "    print(hash_table.search(\"age\"))    # Output: None (since it has been deleted)\n",
        "\n",
        "    # Print the hash table\n",
        "    hash_table.display()  # Print the current state of the hash table"
      ]
    },
    {
      "cell_type": "code",
      "execution_count": null,
      "metadata": {
        "id": "im6zOkwPwQdw"
      },
      "outputs": [],
      "source": []
    },
    {
      "cell_type": "code",
      "execution_count": null,
      "metadata": {
        "id": "yFMez1QGv8WL"
      },
      "outputs": [],
      "source": []
    }
  ],
  "metadata": {
    "colab": {
      "provenance": []
    },
    "kernelspec": {
      "display_name": "Python 3",
      "name": "python3"
    },
    "language_info": {
      "name": "python"
    }
  },
  "nbformat": 4,
  "nbformat_minor": 0
}
