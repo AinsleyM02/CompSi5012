{
  "cells": [
    {
      "cell_type": "markdown",
      "metadata": {},
      "source": [
        "### Ainsley McLaughlin\n",
        "### October 6, 2024"
      ]
    },
    {
      "cell_type": "markdown",
      "metadata": {
        "id": "QuxIic64foOd"
      },
      "source": [
        "## **Majority Element**\n",
        "\n",
        "Given an array nums of size n, return the majority element.\n",
        "\n",
        "The majority element is the element that appears more than ⌊n / 2⌋ times. You may assume that the majority element always exists in the array.\n",
        "\n",
        "(Optional) Analyze the complexity of your algorithm and compare it with your classmates'\n",
        "\n",
        "Example 1:\n",
        "\n",
        "*   Input: nums = [3,2,3]\n",
        "*   Output: 3\n",
        "\n",
        "Example 2:\n",
        "\n",
        "*   Input: nums = [2,2,1,1,1,2,2]\n",
        "*   Output: 2\n"
      ]
    },
    {
      "cell_type": "code",
      "execution_count": 3,
      "metadata": {
        "id": "jYdW0TyOfqBO"
      },
      "outputs": [
        {
          "data": {
            "text/plain": [
              "2"
            ]
          },
          "execution_count": 3,
          "metadata": {},
          "output_type": "execute_result"
        }
      ],
      "source": [
        "# My notes: The functionality of both dictionaries \n",
        "# and defaultdict is almost the same except for the fact that defaultdict \n",
        "# never raises a KeyError. It provides a default value for the key that does not exist\n",
        "\n",
        "#import\n",
        "from collections import defaultdict\n",
        "# define a function\n",
        "def MajorityElem(numarr):\n",
        "    n = len(numarr) # get the length of the array\n",
        "    counts_dict= defaultdict(int) # set up a default dict, empty\n",
        "    for i in numarr:\n",
        "       counts_dict[i]+=1 # for each element in the array, update the value in counts_dict at that index, to count the number of times it occurs\n",
        "\n",
        "       if counts_dict[i]>=n/2: # if the number of times it occurs is more than half the list\n",
        "           return i\n",
        "   \n",
        "Input_nums1 = [3,2,3]\n",
        "Input_nums2= [2,2,1,1,1,2,2]\n",
        "obj_test=MajorityElem(Input_nums2)\n",
        "obj_test\n",
        "\n"
      ]
    },
    {
      "cell_type": "markdown",
      "metadata": {
        "id": "1tAFWIwThqCj"
      },
      "source": [
        "## **Word Pattern**\n",
        "\n",
        "Given a pattern and a string s, find if s follows the same pattern.\n",
        "\n",
        "Here follow means a full match, such that there is a bijection between a letter in pattern and a non-empty word in s.\n",
        "\n",
        "(Optional) Analyze the complexity of your algorithm and compare it with your classmates'\n",
        "---\n",
        "\n",
        "**Example 1:**\n",
        "\n",
        "*   Input: pattern = \"abba\", s = \"dog cat cat dog\"\n",
        "*   Output: true\n",
        "\n",
        "Example 2:\n",
        "\n",
        "*   pattern = \"abba\", s = \"dog cat cat fish\"\n",
        "*   false\n",
        "\n",
        "Example 3:\n",
        "\n",
        "*   pattern = \"aaaa\", s = \"dog cat cat dog\"\n",
        "*   false"
      ]
    },
    {
      "cell_type": "code",
      "execution_count": 2,
      "metadata": {
        "colab": {
          "base_uri": "https://localhost:8080/"
        },
        "id": "VqC2BHEOhqPg",
        "outputId": "fba270c1-9f0f-4121-edf1-72ba97563e1e"
      },
      "outputs": [
        {
          "data": {
            "text/plain": [
              "True"
            ]
          },
          "execution_count": 2,
          "metadata": {},
          "output_type": "execute_result"
        }
      ],
      "source": [
        "def PatternIdent(pattern, s):\n",
        "    # Split the string s into a list of words\n",
        "    word_vect = s.split()\n",
        "\n",
        "    # Check if the length of the pattern matches the number of words\n",
        "    if len(pattern) != len(word_vect):\n",
        "        return False\n",
        "\n",
        "    # Create two dictionaries to track the mapping\n",
        "    pat_map = {}\n",
        "    word_map = {}\n",
        "\n",
        "    # Iterate through the pattern and words simultaneously\n",
        "    for i in range(len(pattern)):\n",
        "        p_char = pattern[i]\n",
        "        word = word_vect[i]\n",
        "\n",
        "        # Check if the pattern character is already mapped to a word\n",
        "        if p_char in pat_map:\n",
        "            if pat_map[p_char] != word:\n",
        "                return False\n",
        "        else:\n",
        "            pat_map[p_char] = word\n",
        "\n",
        "        # Check if the word is already mapped to a pattern character\n",
        "        if word in word_map:\n",
        "            if word_map[word] != p_char:\n",
        "                return False\n",
        "        else:\n",
        "            word_map[word] = p_char\n",
        "\n",
        "    return True\n",
        "\n",
        "\n",
        "    \n",
        "#Test it out\n",
        "p1_2=\"abba\"\n",
        "s1 = \"dog cat cat dog\"\n",
        "s2=\"dog cat cat fish\"\n",
        "p3=\"aaaa\" \n",
        "s3 = \"dog cat cat dog\"\n",
        "obj_test2=PatternIdent(p1_2,s1)\n",
        "obj_test2 #true\n"
      ]
    },
    {
      "cell_type": "code",
      "execution_count": 3,
      "metadata": {},
      "outputs": [
        {
          "data": {
            "text/plain": [
              "False"
            ]
          },
          "execution_count": 3,
          "metadata": {},
          "output_type": "execute_result"
        }
      ],
      "source": [
        "\n",
        "obj_test3=PatternIdent(p1_2,s2)\n",
        "obj_test3 # false\n"
      ]
    },
    {
      "cell_type": "code",
      "execution_count": 4,
      "metadata": {},
      "outputs": [
        {
          "data": {
            "text/plain": [
              "False"
            ]
          },
          "execution_count": 4,
          "metadata": {},
          "output_type": "execute_result"
        }
      ],
      "source": [
        "obj_test4=PatternIdent(p3, s3)\n",
        "obj_test4 #false"
      ]
    },
    {
      "cell_type": "markdown",
      "metadata": {
        "id": "LOetDppKZHgG"
      },
      "source": [
        "## **Roman to Integer**\n",
        "\n",
        "Roman numerals are represented by seven different symbols: I, V, X, L, C, D and M.\n",
        "\n",
        "Symbol - Value: (I - 1), (V - 5), (X - 10), (L - 50), (C - 100), (D - 500), (M - 1000)\n",
        "\n",
        "For example, `2` is written as `II` in Roman numeral, just two ones added together. `12` is written as `XII`, which is simply `X + II`. The number `27` is written as `XXVII`, which is `XX + V + II`.\n",
        "\n",
        "Roman numerals are usually written largest to smallest from left to right.\n",
        "\n",
        "However, the numeral for `four` is not `IIII`. Instead, the number `four` is written as `IV`. Because the one is before the five we subtract it making `four`. The same principle applies to the number nine, which is written as `IX`. There are six instances where subtraction is used:\n",
        "\n",
        "`I` can be placed before `V (5)` and `X (10)` to make `4` and `9`.\n",
        "\n",
        "`X` can be placed before `L (50)` and `C (100)` to make `40` and `90`.\n",
        "\n",
        "`C` can be placed before `D (500)` and `M (1000)` to make `400` and `900`.\n",
        "\n",
        "Given a roman numeral, convert it to an integer.\n",
        "\n",
        "(Optional) Analyze the complexity of your algorithm and compare it with your classmates'\n",
        "\n",
        "---\n",
        "\n",
        "**Example 1:**\n",
        "\n",
        "*   Input: s = \"III\"\n",
        "*   Output: 3\n",
        "*   Explanation: III = 3.\n",
        "\n",
        "**Example 2:**\n",
        "\n",
        "*   Input: s = \"LVIII\"\n",
        "*   Output: 58\n",
        "*   Explanation: L = 50, V= 5, III = 3.\n",
        "\n",
        "**Example 3:**\n",
        "\n",
        "*   Input: s = \"MCMXCIV\"\n",
        "*   Output: 1994\n",
        "*   Explanation: M = 1000, CM = 900, XC = 90 and IV = 4.\n"
      ]
    },
    {
      "cell_type": "code",
      "execution_count": 7,
      "metadata": {},
      "outputs": [],
      "source": [
        "def NumeralCalc(numlist):\n",
        "    # get the characters, \n",
        "    # assign values to each character, first checking if certain things happen\n",
        "    roman_values = {\n",
        "        'I': 1,\n",
        "        'V': 5,\n",
        "        'X': 10,\n",
        "        'L': 50,\n",
        "        'C': 100,\n",
        "        'D': 500,\n",
        "        'M': 1000\n",
        "    }\n",
        "    # initialize the total\n",
        "    total = 0\n",
        "    n = len(numlist)\n",
        "    \n",
        "    for i in range(n):\n",
        "        # If the current value is less than the next one, subtract it\n",
        "        if i < n - 1 and roman_values[numlist[i]] < roman_values[numlist[i + 1]]:\n",
        "            total -= roman_values[numlist[i]]\n",
        "        else:\n",
        "            # Otherwise, add it\n",
        "            total += roman_values[numlist[i]]\n",
        "    \n",
        "    return total\n"
      ]
    },
    {
      "cell_type": "code",
      "execution_count": 8,
      "metadata": {},
      "outputs": [
        {
          "name": "stdout",
          "output_type": "stream",
          "text": [
            "3\n"
          ]
        }
      ],
      "source": [
        "print(NumeralCalc(\"III\"))"
      ]
    },
    {
      "cell_type": "code",
      "execution_count": 9,
      "metadata": {},
      "outputs": [
        {
          "name": "stdout",
          "output_type": "stream",
          "text": [
            "58\n"
          ]
        }
      ],
      "source": [
        "print(NumeralCalc(\"LVIII\"))"
      ]
    },
    {
      "cell_type": "code",
      "execution_count": 10,
      "metadata": {},
      "outputs": [
        {
          "name": "stdout",
          "output_type": "stream",
          "text": [
            "1994\n"
          ]
        }
      ],
      "source": [
        "print(NumeralCalc(\"MCMXCIV\"))"
      ]
    }
  ],
  "metadata": {
    "colab": {
      "provenance": []
    },
    "kernelspec": {
      "display_name": "Python 3",
      "name": "python3"
    },
    "language_info": {
      "codemirror_mode": {
        "name": "ipython",
        "version": 3
      },
      "file_extension": ".py",
      "mimetype": "text/x-python",
      "name": "python",
      "nbconvert_exporter": "python",
      "pygments_lexer": "ipython3",
      "version": "3.12.3"
    }
  },
  "nbformat": 4,
  "nbformat_minor": 0
}
