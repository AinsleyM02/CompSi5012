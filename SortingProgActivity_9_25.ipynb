{
 "cells": [
  {
   "cell_type": "markdown",
   "metadata": {},
   "source": [
    "# In Programming activities for module 2:\n",
    "\n",
    "Sort the People\n",
    "● You are given a list of strings names, and a list of heights that consists \n",
    "of distinct positive integers. Both list are of length n. For each \n",
    "index i, names[i] and heights[i] denote the name and height of the ith person. \n",
    "Return names sorted in descending order by the people's heights.\n",
    "● Example 1: \n",
    "○ Input: names = [\"Mary\",\"John\",\"Emma\"], heights = [180,165,170] \n",
    "○ Output: [\"Mary\",\"Emma\",\"John\"] Explanation: Mary is the tallest, followed by \n",
    "Emma and John. \n",
    "● Example 2: \n",
    "○ Input: names = [\"Alice\",\"Bob\",\"Bob\"], heights = [155,185,150] \n",
    "○ Output: [\"Bob\",\"Alice\",\"Bob\"] Explanation: The first Bob is the tallest, followed by \n",
    "Alice and the second Bob.\n",
    "\n",
    "Sort List by Increasing Frequency\n",
    "● Given a list of integers nums, sort the list in increasing order based on the \n",
    "frequency of the values. If multiple values have the same frequency, sort \n",
    "them in decreasing order. Return the sorted list.\n",
    "● Example 1:\n",
    "○ Input: nums = [1,1,2,2,2,3]\n",
    "○ Output: [3,1,1,2,2,2] Explanation: '3' has a frequency of 1, '1' has a frequency of 2, \n",
    "and '2' has a frequency of 3\n",
    "● Example 2:\n",
    "○ Input: nums = [2,3,1,3,2]\n",
    "○ Output: [1,3,3,2,2] Explanation: '2' and '3' both have a frequency of 2, so they are \n",
    "sorted in decreasing order\n",
    "\n"
   ]
  },
  {
   "cell_type": "markdown",
   "metadata": {},
   "source": [
    "Here is example outline:\n",
    "\n",
    "Solution format:\n",
    "Class Solution():\n",
    "    def YourFunction(self,input):\n",
    "        return output"
   ]
  }
 ],
 "metadata": {
  "language_info": {
   "name": "python"
  }
 },
 "nbformat": 4,
 "nbformat_minor": 2
}
